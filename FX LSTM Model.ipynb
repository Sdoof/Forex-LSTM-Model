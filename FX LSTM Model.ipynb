{
 "cells": [
  {
   "cell_type": "code",
   "execution_count": 112,
   "metadata": {
    "collapsed": true
   },
   "outputs": [],
   "source": [
    "import numpy as np\n",
    "import pandas as pd\n",
    "\n",
    "from subprocess import check_output\n",
    "from keras.layers.core import Dense, Activation, Dropout\n",
    "from keras.layers.recurrent import LSTM\n",
    "from keras.models import Sequential\n",
    "from sklearn.cross_validation import  train_test_split\n",
    "import time \n",
    "from sklearn.preprocessing import MinMaxScaler\n",
    "import matplotlib.pyplot as plt\n",
    "from numpy import newaxis"
   ]
  },
  {
   "cell_type": "code",
   "execution_count": 114,
   "metadata": {},
   "outputs": [
    {
     "data": {
      "text/html": [
       "<div>\n",
       "<style>\n",
       "    .dataframe thead tr:only-child th {\n",
       "        text-align: right;\n",
       "    }\n",
       "\n",
       "    .dataframe thead th {\n",
       "        text-align: left;\n",
       "    }\n",
       "\n",
       "    .dataframe tbody tr th {\n",
       "        vertical-align: top;\n",
       "    }\n",
       "</style>\n",
       "<table border=\"1\" class=\"dataframe\">\n",
       "  <thead>\n",
       "    <tr style=\"text-align: right;\">\n",
       "      <th></th>\n",
       "      <th>Time</th>\n",
       "      <th>Open</th>\n",
       "      <th>High</th>\n",
       "      <th>Low</th>\n",
       "      <th>Close</th>\n",
       "      <th>Volume</th>\n",
       "    </tr>\n",
       "  </thead>\n",
       "  <tbody>\n",
       "    <tr>\n",
       "      <th>0</th>\n",
       "      <td>1/1/10 0:00</td>\n",
       "      <td>1.43283</td>\n",
       "      <td>1.43293</td>\n",
       "      <td>1.43224</td>\n",
       "      <td>1.43293</td>\n",
       "      <td>6.086000e+08</td>\n",
       "    </tr>\n",
       "    <tr>\n",
       "      <th>1</th>\n",
       "      <td>1/1/10 0:15</td>\n",
       "      <td>1.43285</td>\n",
       "      <td>1.43295</td>\n",
       "      <td>1.43229</td>\n",
       "      <td>1.43275</td>\n",
       "      <td>5.356000e+08</td>\n",
       "    </tr>\n",
       "    <tr>\n",
       "      <th>2</th>\n",
       "      <td>1/1/10 0:30</td>\n",
       "      <td>1.43280</td>\n",
       "      <td>1.43303</td>\n",
       "      <td>1.43239</td>\n",
       "      <td>1.43281</td>\n",
       "      <td>4.363000e+08</td>\n",
       "    </tr>\n",
       "    <tr>\n",
       "      <th>3</th>\n",
       "      <td>1/1/10 0:45</td>\n",
       "      <td>1.43285</td>\n",
       "      <td>1.43294</td>\n",
       "      <td>1.43229</td>\n",
       "      <td>1.43276</td>\n",
       "      <td>6.143000e+08</td>\n",
       "    </tr>\n",
       "    <tr>\n",
       "      <th>4</th>\n",
       "      <td>1/1/10 1:00</td>\n",
       "      <td>1.43287</td>\n",
       "      <td>1.43292</td>\n",
       "      <td>1.43206</td>\n",
       "      <td>1.43282</td>\n",
       "      <td>7.053000e+08</td>\n",
       "    </tr>\n",
       "    <tr>\n",
       "      <th>5</th>\n",
       "      <td>1/1/10 1:15</td>\n",
       "      <td>1.43290</td>\n",
       "      <td>1.43299</td>\n",
       "      <td>1.43212</td>\n",
       "      <td>1.43292</td>\n",
       "      <td>4.273000e+08</td>\n",
       "    </tr>\n",
       "    <tr>\n",
       "      <th>6</th>\n",
       "      <td>1/1/10 1:30</td>\n",
       "      <td>1.43267</td>\n",
       "      <td>1.43305</td>\n",
       "      <td>1.43209</td>\n",
       "      <td>1.43282</td>\n",
       "      <td>3.992000e+08</td>\n",
       "    </tr>\n",
       "    <tr>\n",
       "      <th>7</th>\n",
       "      <td>1/1/10 1:45</td>\n",
       "      <td>1.43280</td>\n",
       "      <td>1.43302</td>\n",
       "      <td>1.43218</td>\n",
       "      <td>1.43249</td>\n",
       "      <td>4.812000e+08</td>\n",
       "    </tr>\n",
       "    <tr>\n",
       "      <th>8</th>\n",
       "      <td>1/1/10 2:00</td>\n",
       "      <td>1.43279</td>\n",
       "      <td>1.43303</td>\n",
       "      <td>1.43237</td>\n",
       "      <td>1.43301</td>\n",
       "      <td>6.076000e+08</td>\n",
       "    </tr>\n",
       "    <tr>\n",
       "      <th>9</th>\n",
       "      <td>1/1/10 2:15</td>\n",
       "      <td>1.43301</td>\n",
       "      <td>1.43303</td>\n",
       "      <td>1.43222</td>\n",
       "      <td>1.43271</td>\n",
       "      <td>4.696000e+08</td>\n",
       "    </tr>\n",
       "    <tr>\n",
       "      <th>10</th>\n",
       "      <td>1/1/10 2:30</td>\n",
       "      <td>1.43285</td>\n",
       "      <td>1.43305</td>\n",
       "      <td>1.43228</td>\n",
       "      <td>1.43285</td>\n",
       "      <td>4.921000e+08</td>\n",
       "    </tr>\n",
       "    <tr>\n",
       "      <th>11</th>\n",
       "      <td>1/1/10 2:45</td>\n",
       "      <td>1.43288</td>\n",
       "      <td>1.43302</td>\n",
       "      <td>1.43218</td>\n",
       "      <td>1.43278</td>\n",
       "      <td>9.406000e+08</td>\n",
       "    </tr>\n",
       "    <tr>\n",
       "      <th>12</th>\n",
       "      <td>1/1/10 3:00</td>\n",
       "      <td>1.43285</td>\n",
       "      <td>1.43302</td>\n",
       "      <td>1.43222</td>\n",
       "      <td>1.43287</td>\n",
       "      <td>9.319000e+08</td>\n",
       "    </tr>\n",
       "    <tr>\n",
       "      <th>13</th>\n",
       "      <td>1/1/10 3:15</td>\n",
       "      <td>1.43280</td>\n",
       "      <td>1.43306</td>\n",
       "      <td>1.43219</td>\n",
       "      <td>1.43292</td>\n",
       "      <td>7.297000e+08</td>\n",
       "    </tr>\n",
       "    <tr>\n",
       "      <th>14</th>\n",
       "      <td>1/1/10 3:30</td>\n",
       "      <td>1.43280</td>\n",
       "      <td>1.43302</td>\n",
       "      <td>1.43219</td>\n",
       "      <td>1.43276</td>\n",
       "      <td>8.983000e+08</td>\n",
       "    </tr>\n",
       "    <tr>\n",
       "      <th>15</th>\n",
       "      <td>1/1/10 3:45</td>\n",
       "      <td>1.43284</td>\n",
       "      <td>1.43293</td>\n",
       "      <td>1.43181</td>\n",
       "      <td>1.43209</td>\n",
       "      <td>7.218000e+08</td>\n",
       "    </tr>\n",
       "    <tr>\n",
       "      <th>16</th>\n",
       "      <td>1/1/10 4:00</td>\n",
       "      <td>1.43218</td>\n",
       "      <td>1.43302</td>\n",
       "      <td>1.43182</td>\n",
       "      <td>1.43273</td>\n",
       "      <td>8.282000e+08</td>\n",
       "    </tr>\n",
       "    <tr>\n",
       "      <th>17</th>\n",
       "      <td>1/1/10 4:15</td>\n",
       "      <td>1.43263</td>\n",
       "      <td>1.43294</td>\n",
       "      <td>1.43204</td>\n",
       "      <td>1.43223</td>\n",
       "      <td>6.486000e+08</td>\n",
       "    </tr>\n",
       "    <tr>\n",
       "      <th>18</th>\n",
       "      <td>1/1/10 4:30</td>\n",
       "      <td>1.43239</td>\n",
       "      <td>1.43302</td>\n",
       "      <td>1.43197</td>\n",
       "      <td>1.43282</td>\n",
       "      <td>5.849000e+08</td>\n",
       "    </tr>\n",
       "    <tr>\n",
       "      <th>19</th>\n",
       "      <td>1/1/10 4:45</td>\n",
       "      <td>1.43284</td>\n",
       "      <td>1.43295</td>\n",
       "      <td>1.43220</td>\n",
       "      <td>1.43236</td>\n",
       "      <td>5.635000e+08</td>\n",
       "    </tr>\n",
       "    <tr>\n",
       "      <th>20</th>\n",
       "      <td>1/1/10 5:00</td>\n",
       "      <td>1.43237</td>\n",
       "      <td>1.43294</td>\n",
       "      <td>1.43199</td>\n",
       "      <td>1.43268</td>\n",
       "      <td>6.168000e+08</td>\n",
       "    </tr>\n",
       "    <tr>\n",
       "      <th>21</th>\n",
       "      <td>1/1/10 5:15</td>\n",
       "      <td>1.43275</td>\n",
       "      <td>1.43294</td>\n",
       "      <td>1.43211</td>\n",
       "      <td>1.43277</td>\n",
       "      <td>7.279000e+08</td>\n",
       "    </tr>\n",
       "    <tr>\n",
       "      <th>22</th>\n",
       "      <td>1/1/10 5:30</td>\n",
       "      <td>1.43214</td>\n",
       "      <td>1.43298</td>\n",
       "      <td>1.43210</td>\n",
       "      <td>1.43268</td>\n",
       "      <td>5.939000e+08</td>\n",
       "    </tr>\n",
       "    <tr>\n",
       "      <th>23</th>\n",
       "      <td>1/1/10 5:45</td>\n",
       "      <td>1.43253</td>\n",
       "      <td>1.43306</td>\n",
       "      <td>1.43214</td>\n",
       "      <td>1.43303</td>\n",
       "      <td>6.993000e+08</td>\n",
       "    </tr>\n",
       "    <tr>\n",
       "      <th>24</th>\n",
       "      <td>1/1/10 6:00</td>\n",
       "      <td>1.43283</td>\n",
       "      <td>1.43335</td>\n",
       "      <td>1.43269</td>\n",
       "      <td>1.43334</td>\n",
       "      <td>6.817000e+08</td>\n",
       "    </tr>\n",
       "    <tr>\n",
       "      <th>25</th>\n",
       "      <td>1/1/10 6:15</td>\n",
       "      <td>1.43331</td>\n",
       "      <td>1.43332</td>\n",
       "      <td>1.43268</td>\n",
       "      <td>1.43326</td>\n",
       "      <td>7.087000e+08</td>\n",
       "    </tr>\n",
       "    <tr>\n",
       "      <th>26</th>\n",
       "      <td>1/1/10 6:30</td>\n",
       "      <td>1.43322</td>\n",
       "      <td>1.43333</td>\n",
       "      <td>1.43270</td>\n",
       "      <td>1.43315</td>\n",
       "      <td>9.255000e+08</td>\n",
       "    </tr>\n",
       "    <tr>\n",
       "      <th>27</th>\n",
       "      <td>1/1/10 6:45</td>\n",
       "      <td>1.43318</td>\n",
       "      <td>1.43331</td>\n",
       "      <td>1.43269</td>\n",
       "      <td>1.43286</td>\n",
       "      <td>8.124000e+08</td>\n",
       "    </tr>\n",
       "    <tr>\n",
       "      <th>28</th>\n",
       "      <td>1/1/10 7:00</td>\n",
       "      <td>1.43328</td>\n",
       "      <td>1.43342</td>\n",
       "      <td>1.43226</td>\n",
       "      <td>1.43304</td>\n",
       "      <td>9.123000e+08</td>\n",
       "    </tr>\n",
       "    <tr>\n",
       "      <th>29</th>\n",
       "      <td>1/1/10 7:15</td>\n",
       "      <td>1.43303</td>\n",
       "      <td>1.43334</td>\n",
       "      <td>1.43254</td>\n",
       "      <td>1.43316</td>\n",
       "      <td>9.352000e+08</td>\n",
       "    </tr>\n",
       "    <tr>\n",
       "      <th>...</th>\n",
       "      <td>...</td>\n",
       "      <td>...</td>\n",
       "      <td>...</td>\n",
       "      <td>...</td>\n",
       "      <td>...</td>\n",
       "      <td>...</td>\n",
       "    </tr>\n",
       "    <tr>\n",
       "      <th>245310</th>\n",
       "      <td>12/30/16 14:30</td>\n",
       "      <td>1.05364</td>\n",
       "      <td>1.05403</td>\n",
       "      <td>1.05253</td>\n",
       "      <td>1.05385</td>\n",
       "      <td>3.903750e+09</td>\n",
       "    </tr>\n",
       "    <tr>\n",
       "      <th>245311</th>\n",
       "      <td>12/30/16 14:45</td>\n",
       "      <td>1.05386</td>\n",
       "      <td>1.05520</td>\n",
       "      <td>1.05378</td>\n",
       "      <td>1.05500</td>\n",
       "      <td>2.999040e+09</td>\n",
       "    </tr>\n",
       "    <tr>\n",
       "      <th>245312</th>\n",
       "      <td>12/30/16 15:00</td>\n",
       "      <td>1.05499</td>\n",
       "      <td>1.05614</td>\n",
       "      <td>1.05437</td>\n",
       "      <td>1.05512</td>\n",
       "      <td>2.874910e+09</td>\n",
       "    </tr>\n",
       "    <tr>\n",
       "      <th>245313</th>\n",
       "      <td>12/30/16 15:15</td>\n",
       "      <td>1.05511</td>\n",
       "      <td>1.05673</td>\n",
       "      <td>1.05504</td>\n",
       "      <td>1.05655</td>\n",
       "      <td>2.773580e+09</td>\n",
       "    </tr>\n",
       "    <tr>\n",
       "      <th>245314</th>\n",
       "      <td>12/30/16 15:30</td>\n",
       "      <td>1.05656</td>\n",
       "      <td>1.05762</td>\n",
       "      <td>1.05610</td>\n",
       "      <td>1.05762</td>\n",
       "      <td>2.325070e+09</td>\n",
       "    </tr>\n",
       "    <tr>\n",
       "      <th>245315</th>\n",
       "      <td>12/30/16 15:45</td>\n",
       "      <td>1.05763</td>\n",
       "      <td>1.05774</td>\n",
       "      <td>1.05382</td>\n",
       "      <td>1.05479</td>\n",
       "      <td>5.244220e+09</td>\n",
       "    </tr>\n",
       "    <tr>\n",
       "      <th>245316</th>\n",
       "      <td>12/30/16 16:00</td>\n",
       "      <td>1.05474</td>\n",
       "      <td>1.05585</td>\n",
       "      <td>1.05434</td>\n",
       "      <td>1.05571</td>\n",
       "      <td>5.408950e+09</td>\n",
       "    </tr>\n",
       "    <tr>\n",
       "      <th>245317</th>\n",
       "      <td>12/30/16 16:15</td>\n",
       "      <td>1.05569</td>\n",
       "      <td>1.05644</td>\n",
       "      <td>1.05546</td>\n",
       "      <td>1.05564</td>\n",
       "      <td>2.948240e+09</td>\n",
       "    </tr>\n",
       "    <tr>\n",
       "      <th>245318</th>\n",
       "      <td>12/30/16 16:30</td>\n",
       "      <td>1.05563</td>\n",
       "      <td>1.05595</td>\n",
       "      <td>1.05518</td>\n",
       "      <td>1.05573</td>\n",
       "      <td>1.906590e+09</td>\n",
       "    </tr>\n",
       "    <tr>\n",
       "      <th>245319</th>\n",
       "      <td>12/30/16 16:45</td>\n",
       "      <td>1.05573</td>\n",
       "      <td>1.05584</td>\n",
       "      <td>1.05518</td>\n",
       "      <td>1.05518</td>\n",
       "      <td>1.432730e+09</td>\n",
       "    </tr>\n",
       "    <tr>\n",
       "      <th>245320</th>\n",
       "      <td>12/30/16 17:00</td>\n",
       "      <td>1.05517</td>\n",
       "      <td>1.05542</td>\n",
       "      <td>1.05483</td>\n",
       "      <td>1.05499</td>\n",
       "      <td>1.826410e+09</td>\n",
       "    </tr>\n",
       "    <tr>\n",
       "      <th>245321</th>\n",
       "      <td>12/30/16 17:15</td>\n",
       "      <td>1.05500</td>\n",
       "      <td>1.05509</td>\n",
       "      <td>1.05379</td>\n",
       "      <td>1.05380</td>\n",
       "      <td>1.958780e+09</td>\n",
       "    </tr>\n",
       "    <tr>\n",
       "      <th>245322</th>\n",
       "      <td>12/30/16 17:30</td>\n",
       "      <td>1.05382</td>\n",
       "      <td>1.05438</td>\n",
       "      <td>1.05342</td>\n",
       "      <td>1.05354</td>\n",
       "      <td>1.985220e+09</td>\n",
       "    </tr>\n",
       "    <tr>\n",
       "      <th>245323</th>\n",
       "      <td>12/30/16 17:45</td>\n",
       "      <td>1.05353</td>\n",
       "      <td>1.05462</td>\n",
       "      <td>1.05290</td>\n",
       "      <td>1.05462</td>\n",
       "      <td>2.642750e+09</td>\n",
       "    </tr>\n",
       "    <tr>\n",
       "      <th>245324</th>\n",
       "      <td>12/30/16 18:00</td>\n",
       "      <td>1.05467</td>\n",
       "      <td>1.05475</td>\n",
       "      <td>1.05294</td>\n",
       "      <td>1.05336</td>\n",
       "      <td>3.277370e+09</td>\n",
       "    </tr>\n",
       "    <tr>\n",
       "      <th>245325</th>\n",
       "      <td>12/30/16 18:15</td>\n",
       "      <td>1.05338</td>\n",
       "      <td>1.05350</td>\n",
       "      <td>1.05281</td>\n",
       "      <td>1.05285</td>\n",
       "      <td>1.793610e+09</td>\n",
       "    </tr>\n",
       "    <tr>\n",
       "      <th>245326</th>\n",
       "      <td>12/30/16 18:30</td>\n",
       "      <td>1.05285</td>\n",
       "      <td>1.05321</td>\n",
       "      <td>1.05267</td>\n",
       "      <td>1.05307</td>\n",
       "      <td>1.842110e+09</td>\n",
       "    </tr>\n",
       "    <tr>\n",
       "      <th>245327</th>\n",
       "      <td>12/30/16 18:45</td>\n",
       "      <td>1.05307</td>\n",
       "      <td>1.05324</td>\n",
       "      <td>1.05254</td>\n",
       "      <td>1.05271</td>\n",
       "      <td>2.235220e+09</td>\n",
       "    </tr>\n",
       "    <tr>\n",
       "      <th>245328</th>\n",
       "      <td>12/30/16 19:00</td>\n",
       "      <td>1.05269</td>\n",
       "      <td>1.05301</td>\n",
       "      <td>1.05232</td>\n",
       "      <td>1.05264</td>\n",
       "      <td>2.024590e+09</td>\n",
       "    </tr>\n",
       "    <tr>\n",
       "      <th>245329</th>\n",
       "      <td>12/30/16 19:15</td>\n",
       "      <td>1.05264</td>\n",
       "      <td>1.05270</td>\n",
       "      <td>1.05234</td>\n",
       "      <td>1.05250</td>\n",
       "      <td>1.435770e+09</td>\n",
       "    </tr>\n",
       "    <tr>\n",
       "      <th>245330</th>\n",
       "      <td>12/30/16 19:30</td>\n",
       "      <td>1.05251</td>\n",
       "      <td>1.05322</td>\n",
       "      <td>1.05245</td>\n",
       "      <td>1.05286</td>\n",
       "      <td>1.608270e+09</td>\n",
       "    </tr>\n",
       "    <tr>\n",
       "      <th>245331</th>\n",
       "      <td>12/30/16 19:45</td>\n",
       "      <td>1.05286</td>\n",
       "      <td>1.05360</td>\n",
       "      <td>1.05261</td>\n",
       "      <td>1.05343</td>\n",
       "      <td>2.253220e+09</td>\n",
       "    </tr>\n",
       "    <tr>\n",
       "      <th>245332</th>\n",
       "      <td>12/30/16 20:00</td>\n",
       "      <td>1.05347</td>\n",
       "      <td>1.05348</td>\n",
       "      <td>1.05298</td>\n",
       "      <td>1.05318</td>\n",
       "      <td>1.781860e+09</td>\n",
       "    </tr>\n",
       "    <tr>\n",
       "      <th>245333</th>\n",
       "      <td>12/30/16 20:15</td>\n",
       "      <td>1.05320</td>\n",
       "      <td>1.05324</td>\n",
       "      <td>1.05279</td>\n",
       "      <td>1.05299</td>\n",
       "      <td>1.429550e+09</td>\n",
       "    </tr>\n",
       "    <tr>\n",
       "      <th>245334</th>\n",
       "      <td>12/30/16 20:30</td>\n",
       "      <td>1.05299</td>\n",
       "      <td>1.05362</td>\n",
       "      <td>1.05268</td>\n",
       "      <td>1.05361</td>\n",
       "      <td>1.293230e+09</td>\n",
       "    </tr>\n",
       "    <tr>\n",
       "      <th>245335</th>\n",
       "      <td>12/30/16 20:45</td>\n",
       "      <td>1.05358</td>\n",
       "      <td>1.05376</td>\n",
       "      <td>1.05238</td>\n",
       "      <td>1.05247</td>\n",
       "      <td>1.911700e+09</td>\n",
       "    </tr>\n",
       "    <tr>\n",
       "      <th>245336</th>\n",
       "      <td>12/30/16 21:00</td>\n",
       "      <td>1.05244</td>\n",
       "      <td>1.05251</td>\n",
       "      <td>1.05179</td>\n",
       "      <td>1.05180</td>\n",
       "      <td>8.912800e+08</td>\n",
       "    </tr>\n",
       "    <tr>\n",
       "      <th>245337</th>\n",
       "      <td>12/30/16 21:15</td>\n",
       "      <td>1.05179</td>\n",
       "      <td>1.05204</td>\n",
       "      <td>1.05141</td>\n",
       "      <td>1.05191</td>\n",
       "      <td>8.146200e+08</td>\n",
       "    </tr>\n",
       "    <tr>\n",
       "      <th>245338</th>\n",
       "      <td>12/30/16 21:30</td>\n",
       "      <td>1.05191</td>\n",
       "      <td>1.05193</td>\n",
       "      <td>1.05140</td>\n",
       "      <td>1.05156</td>\n",
       "      <td>4.275700e+08</td>\n",
       "    </tr>\n",
       "    <tr>\n",
       "      <th>245339</th>\n",
       "      <td>12/30/16 21:45</td>\n",
       "      <td>1.05150</td>\n",
       "      <td>1.05303</td>\n",
       "      <td>1.05123</td>\n",
       "      <td>1.05150</td>\n",
       "      <td>1.419200e+09</td>\n",
       "    </tr>\n",
       "  </tbody>\n",
       "</table>\n",
       "<p>245340 rows × 6 columns</p>\n",
       "</div>"
      ],
      "text/plain": [
       "                  Time     Open     High      Low    Close        Volume\n",
       "0          1/1/10 0:00  1.43283  1.43293  1.43224  1.43293  6.086000e+08\n",
       "1          1/1/10 0:15  1.43285  1.43295  1.43229  1.43275  5.356000e+08\n",
       "2          1/1/10 0:30  1.43280  1.43303  1.43239  1.43281  4.363000e+08\n",
       "3          1/1/10 0:45  1.43285  1.43294  1.43229  1.43276  6.143000e+08\n",
       "4          1/1/10 1:00  1.43287  1.43292  1.43206  1.43282  7.053000e+08\n",
       "5          1/1/10 1:15  1.43290  1.43299  1.43212  1.43292  4.273000e+08\n",
       "6          1/1/10 1:30  1.43267  1.43305  1.43209  1.43282  3.992000e+08\n",
       "7          1/1/10 1:45  1.43280  1.43302  1.43218  1.43249  4.812000e+08\n",
       "8          1/1/10 2:00  1.43279  1.43303  1.43237  1.43301  6.076000e+08\n",
       "9          1/1/10 2:15  1.43301  1.43303  1.43222  1.43271  4.696000e+08\n",
       "10         1/1/10 2:30  1.43285  1.43305  1.43228  1.43285  4.921000e+08\n",
       "11         1/1/10 2:45  1.43288  1.43302  1.43218  1.43278  9.406000e+08\n",
       "12         1/1/10 3:00  1.43285  1.43302  1.43222  1.43287  9.319000e+08\n",
       "13         1/1/10 3:15  1.43280  1.43306  1.43219  1.43292  7.297000e+08\n",
       "14         1/1/10 3:30  1.43280  1.43302  1.43219  1.43276  8.983000e+08\n",
       "15         1/1/10 3:45  1.43284  1.43293  1.43181  1.43209  7.218000e+08\n",
       "16         1/1/10 4:00  1.43218  1.43302  1.43182  1.43273  8.282000e+08\n",
       "17         1/1/10 4:15  1.43263  1.43294  1.43204  1.43223  6.486000e+08\n",
       "18         1/1/10 4:30  1.43239  1.43302  1.43197  1.43282  5.849000e+08\n",
       "19         1/1/10 4:45  1.43284  1.43295  1.43220  1.43236  5.635000e+08\n",
       "20         1/1/10 5:00  1.43237  1.43294  1.43199  1.43268  6.168000e+08\n",
       "21         1/1/10 5:15  1.43275  1.43294  1.43211  1.43277  7.279000e+08\n",
       "22         1/1/10 5:30  1.43214  1.43298  1.43210  1.43268  5.939000e+08\n",
       "23         1/1/10 5:45  1.43253  1.43306  1.43214  1.43303  6.993000e+08\n",
       "24         1/1/10 6:00  1.43283  1.43335  1.43269  1.43334  6.817000e+08\n",
       "25         1/1/10 6:15  1.43331  1.43332  1.43268  1.43326  7.087000e+08\n",
       "26         1/1/10 6:30  1.43322  1.43333  1.43270  1.43315  9.255000e+08\n",
       "27         1/1/10 6:45  1.43318  1.43331  1.43269  1.43286  8.124000e+08\n",
       "28         1/1/10 7:00  1.43328  1.43342  1.43226  1.43304  9.123000e+08\n",
       "29         1/1/10 7:15  1.43303  1.43334  1.43254  1.43316  9.352000e+08\n",
       "...                ...      ...      ...      ...      ...           ...\n",
       "245310  12/30/16 14:30  1.05364  1.05403  1.05253  1.05385  3.903750e+09\n",
       "245311  12/30/16 14:45  1.05386  1.05520  1.05378  1.05500  2.999040e+09\n",
       "245312  12/30/16 15:00  1.05499  1.05614  1.05437  1.05512  2.874910e+09\n",
       "245313  12/30/16 15:15  1.05511  1.05673  1.05504  1.05655  2.773580e+09\n",
       "245314  12/30/16 15:30  1.05656  1.05762  1.05610  1.05762  2.325070e+09\n",
       "245315  12/30/16 15:45  1.05763  1.05774  1.05382  1.05479  5.244220e+09\n",
       "245316  12/30/16 16:00  1.05474  1.05585  1.05434  1.05571  5.408950e+09\n",
       "245317  12/30/16 16:15  1.05569  1.05644  1.05546  1.05564  2.948240e+09\n",
       "245318  12/30/16 16:30  1.05563  1.05595  1.05518  1.05573  1.906590e+09\n",
       "245319  12/30/16 16:45  1.05573  1.05584  1.05518  1.05518  1.432730e+09\n",
       "245320  12/30/16 17:00  1.05517  1.05542  1.05483  1.05499  1.826410e+09\n",
       "245321  12/30/16 17:15  1.05500  1.05509  1.05379  1.05380  1.958780e+09\n",
       "245322  12/30/16 17:30  1.05382  1.05438  1.05342  1.05354  1.985220e+09\n",
       "245323  12/30/16 17:45  1.05353  1.05462  1.05290  1.05462  2.642750e+09\n",
       "245324  12/30/16 18:00  1.05467  1.05475  1.05294  1.05336  3.277370e+09\n",
       "245325  12/30/16 18:15  1.05338  1.05350  1.05281  1.05285  1.793610e+09\n",
       "245326  12/30/16 18:30  1.05285  1.05321  1.05267  1.05307  1.842110e+09\n",
       "245327  12/30/16 18:45  1.05307  1.05324  1.05254  1.05271  2.235220e+09\n",
       "245328  12/30/16 19:00  1.05269  1.05301  1.05232  1.05264  2.024590e+09\n",
       "245329  12/30/16 19:15  1.05264  1.05270  1.05234  1.05250  1.435770e+09\n",
       "245330  12/30/16 19:30  1.05251  1.05322  1.05245  1.05286  1.608270e+09\n",
       "245331  12/30/16 19:45  1.05286  1.05360  1.05261  1.05343  2.253220e+09\n",
       "245332  12/30/16 20:00  1.05347  1.05348  1.05298  1.05318  1.781860e+09\n",
       "245333  12/30/16 20:15  1.05320  1.05324  1.05279  1.05299  1.429550e+09\n",
       "245334  12/30/16 20:30  1.05299  1.05362  1.05268  1.05361  1.293230e+09\n",
       "245335  12/30/16 20:45  1.05358  1.05376  1.05238  1.05247  1.911700e+09\n",
       "245336  12/30/16 21:00  1.05244  1.05251  1.05179  1.05180  8.912800e+08\n",
       "245337  12/30/16 21:15  1.05179  1.05204  1.05141  1.05191  8.146200e+08\n",
       "245338  12/30/16 21:30  1.05191  1.05193  1.05140  1.05156  4.275700e+08\n",
       "245339  12/30/16 21:45  1.05150  1.05303  1.05123  1.05150  1.419200e+09\n",
       "\n",
       "[245340 rows x 6 columns]"
      ]
     },
     "execution_count": 114,
     "metadata": {},
     "output_type": "execute_result"
    }
   ],
   "source": [
    "#read dataset\n",
    "\n",
    "prices_dataset =  pd.read_csv('FX.csv', header=0)\n",
    "prices_dataset"
   ]
  },
  {
   "cell_type": "code",
   "execution_count": 115,
   "metadata": {
    "collapsed": true
   },
   "outputs": [],
   "source": [
    "#in this case, float32 is sufficient\n",
    "\n",
    "prices_dataset = prices_dataset.Close.values.astype('float32')"
   ]
  },
  {
   "cell_type": "code",
   "execution_count": 116,
   "metadata": {},
   "outputs": [
    {
     "data": {
      "text/plain": [
       "(245340,)"
      ]
     },
     "execution_count": 116,
     "metadata": {},
     "output_type": "execute_result"
    }
   ],
   "source": [
    "\n",
    "prices_dataset.shape"
   ]
  },
  {
   "cell_type": "code",
   "execution_count": 88,
   "metadata": {
    "collapsed": true
   },
   "outputs": [],
   "source": [
    "#convert the shape in order to split the train & test sets\n",
    "prices_dataset = prices_dataset.reshape(245340,1)"
   ]
  },
  {
   "cell_type": "code",
   "execution_count": 89,
   "metadata": {},
   "outputs": [
    {
     "data": {
      "text/plain": [
       "(245340, 1)"
      ]
     },
     "execution_count": 89,
     "metadata": {},
     "output_type": "execute_result"
    }
   ],
   "source": [
    "#confirm the shape is \n",
    "prices_dataset.shape"
   ]
  },
  {
   "cell_type": "code",
   "execution_count": 90,
   "metadata": {},
   "outputs": [
    {
     "data": {
      "image/png": "[encoded data removed]",
      "text/plain": [
       "<matplotlib.figure.Figure at 0x12ddb31d0>"
      ]
     },
     "metadata": {},
     "output_type": "display_data"
    }
   ],
   "source": [
    "plt.plot(prices_dataset)\n",
    "plt.show()\n",
    "\n",
    "scaler = MinMaxScaler(feature_range=(0, 1))\n",
    "prices_dataset = scaler.fit_transform(prices_dataset)"
   ]
  },
  {
   "cell_type": "code",
   "execution_count": 91,
   "metadata": {
    "collapsed": true
   },
   "outputs": [],
   "source": [
    "train_size = int(len(prices_dataset) * 0.70)\n",
    "test_size = len(prices_dataset) - train_size"
   ]
  },
  {
   "cell_type": "code",
   "execution_count": 92,
   "metadata": {},
   "outputs": [
    {
     "data": {
      "text/plain": [
       "(171738, 73602)"
      ]
     },
     "execution_count": 92,
     "metadata": {},
     "output_type": "execute_result"
    }
   ],
   "source": [
    "train_size, test_size\n"
   ]
  },
  {
   "cell_type": "code",
   "execution_count": 93,
   "metadata": {},
   "outputs": [
    {
     "data": {
      "text/plain": [
       "(245340, 1)"
      ]
     },
     "execution_count": 93,
     "metadata": {},
     "output_type": "execute_result"
    }
   ],
   "source": [
    "prices_dataset.shape"
   ]
  },
  {
   "cell_type": "code",
   "execution_count": 94,
   "metadata": {},
   "outputs": [
    {
     "name": "stdout",
     "output_type": "stream",
     "text": [
      "171738 73602\n"
     ]
    }
   ],
   "source": [
    "train = prices_dataset[0:train_size,:]\n",
    "test = prices_dataset[train_size:len(prices_dataset),:]\n",
    "print(len(train), len(test))"
   ]
  },
  {
   "cell_type": "code",
   "execution_count": 95,
   "metadata": {},
   "outputs": [
    {
     "name": "stdout",
     "output_type": "stream",
     "text": [
      "[[ 0.86821532]\n",
      " [ 0.86782193]\n",
      " [ 0.86795282]\n",
      " ..., \n",
      " [ 0.45155573]\n",
      " [ 0.45253921]\n",
      " [ 0.45173049]] [[ 0.4516871 ]\n",
      " [ 0.45155573]\n",
      " [ 0.45133734]\n",
      " ..., \n",
      " [ 0.03563952]\n",
      " [ 0.03487492]\n",
      " [ 0.03474355]]\n"
     ]
    }
   ],
   "source": [
    "print((train), (test))"
   ]
  },
  {
   "cell_type": "code",
   "execution_count": 96,
   "metadata": {
    "collapsed": true
   },
   "outputs": [],
   "source": [
    "# convert an array of values into a dataset matrix\n",
    "\n",
    "def create_dataset(dataset, look_back=1):\n",
    "    dataX, dataY = [], []\n",
    "    for i in range(len(dataset)-look_back-1):\n",
    "        dataX.append(dataset[i:(i+look_back), 0])\n",
    "        dataY.append(dataset[i + look_back, 0])\n",
    "    return np.array(dataX), np.array(dataY)\n"
   ]
  },
  {
   "cell_type": "code",
   "execution_count": 97,
   "metadata": {
    "collapsed": true
   },
   "outputs": [],
   "source": [
    "# reshape into X=t and Y=t+1\n",
    "#safer to manually code it than use train_split library\n",
    "\n",
    "look_back = 1\n",
    "trainX, trainY = create_dataset(train, look_back)\n",
    "testX, testY = create_dataset(test, look_back)"
   ]
  },
  {
   "cell_type": "code",
   "execution_count": 98,
   "metadata": {
    "collapsed": true
   },
   "outputs": [],
   "source": [
    "trainX = np.reshape(trainX, (trainX.shape[0], 1, trainX.shape[1]))\n",
    "testX = np.reshape(testX, (testX.shape[0], 1, testX.shape[1]))\n"
   ]
  },
  {
   "cell_type": "code",
   "execution_count": 99,
   "metadata": {},
   "outputs": [
    {
     "name": "stderr",
     "output_type": "stream",
     "text": [
      "/Users/taocheng/anaconda/lib/python3.6/site-packages/ipykernel_launcher.py:6: UserWarning: The `input_dim` and `input_length` arguments in recurrent layers are deprecated. Use `input_shape` instead.\n",
      "  \n",
      "/Users/taocheng/anaconda/lib/python3.6/site-packages/ipykernel_launcher.py:6: UserWarning: Update your `LSTM` call to the Keras 2 API: `LSTM(return_sequences=True, input_shape=(None, 1), units=50)`\n",
      "  \n"
     ]
    },
    {
     "name": "stdout",
     "output_type": "stream",
     "text": [
      "compilation time :  0.016670942306518555\n"
     ]
    },
    {
     "name": "stderr",
     "output_type": "stream",
     "text": [
      "/Users/taocheng/anaconda/lib/python3.6/site-packages/ipykernel_launcher.py:15: UserWarning: Update your `Dense` call to the Keras 2 API: `Dense(units=1)`\n",
      "  from ipykernel import kernelapp as app\n"
     ]
    }
   ],
   "source": [
    "#Now lets contruct LSTM model, which works better than RNN in this case\n",
    "\n",
    "model = Sequential()\n",
    "\n",
    "model.add(LSTM(\n",
    "    input_dim=1,\n",
    "    output_dim=50,\n",
    "    return_sequences=True))\n",
    "model.add(Dropout(0.2))\n",
    "\n",
    "model.add(LSTM(\n",
    "    100,\n",
    "    return_sequences=False))\n",
    "model.add(Dropout(0.2))\n",
    "\n",
    "model.add(Dense(\n",
    "    output_dim=1))\n",
    "model.add(Activation('linear'))\n",
    "\n",
    "start = time.time()\n",
    "model.compile(loss='mse', optimizer='rmsprop')\n",
    "print ('compilation time : ', time.time() - start)"
   ]
  },
  {
   "cell_type": "code",
   "execution_count": 100,
   "metadata": {},
   "outputs": [
    {
     "name": "stderr",
     "output_type": "stream",
     "text": [
      "/Users/taocheng/anaconda/lib/python3.6/site-packages/keras/models.py:844: UserWarning: The `nb_epoch` argument in `fit` has been renamed `epochs`.\n",
      "  warnings.warn('The `nb_epoch` argument in `fit` '\n"
     ]
    },
    {
     "name": "stdout",
     "output_type": "stream",
     "text": [
      "Train on 163149 samples, validate on 8587 samples\n",
      "Epoch 1/10\n",
      "163149/163149 [==============================] - 21s - loss: 0.0079 - val_loss: 2.4967e-04\n",
      "Epoch 2/10\n",
      "163149/163149 [==============================] - 20s - loss: 6.5491e-04 - val_loss: 2.1766e-05\n",
      "Epoch 3/10\n",
      "163149/163149 [==============================] - 20s - loss: 4.4599e-04 - val_loss: 4.7880e-04\n",
      "Epoch 4/10\n",
      "163149/163149 [==============================] - 20s - loss: 3.2771e-04 - val_loss: 2.5009e-05\n",
      "Epoch 5/10\n",
      "163149/163149 [==============================] - 23s - loss: 2.5786e-04 - val_loss: 2.7914e-05\n",
      "Epoch 6/10\n",
      "163149/163149 [==============================] - 20s - loss: 2.1198e-04 - val_loss: 4.8319e-05\n",
      "Epoch 7/10\n",
      "163149/163149 [==============================] - 20s - loss: 1.8688e-04 - val_loss: 4.7989e-05\n",
      "Epoch 8/10\n",
      "163149/163149 [==============================] - 20s - loss: 1.6891e-04 - val_loss: 9.2095e-05\n",
      "Epoch 9/10\n",
      "163149/163149 [==============================] - 19s - loss: 1.5766e-04 - val_loss: 5.3997e-06\n",
      "Epoch 10/10\n",
      "163149/163149 [==============================] - 20s - loss: 1.5194e-04 - val_loss: 1.3783e-05\n"
     ]
    },
    {
     "data": {
      "text/plain": [
       "<keras.callbacks.History at 0x1356f2be0>"
      ]
     },
     "execution_count": 100,
     "metadata": {},
     "output_type": "execute_result"
    }
   ],
   "source": [
    "model.fit(\n",
    "    trainX,\n",
    "    trainY,\n",
    "    batch_size=128,\n",
    "    nb_epoch=10,\n",
    "    validation_split=0.05)"
   ]
  },
  {
   "cell_type": "code",
   "execution_count": 101,
   "metadata": {
    "collapsed": true
   },
   "outputs": [],
   "source": [
    "def plot_results_multiple(predicted_data, true_data,length):\n",
    "    plt.plot(scaler.inverse_transform(true_data.reshape(-1, 1))[length:])\n",
    "    plt.plot(scaler.inverse_transform(np.array(predicted_data).reshape(-1, 1))[length:])\n",
    "    plt.show()"
   ]
  },
  {
   "cell_type": "code",
   "execution_count": 102,
   "metadata": {
    "collapsed": true
   },
   "outputs": [],
   "source": [
    "\n",
    "def predict_sequences_multiple(model, firstValue,length):\n",
    "    prediction_seqs = []\n",
    "    curr_frame = firstValue\n",
    "    \n",
    "    for i in range(length): \n",
    "        predicted = []        \n",
    "        \n",
    "        print(model.predict(curr_frame[newaxis,:,:]))\n",
    "        predicted.append(model.predict(curr_frame[newaxis,:,:])[0,0])\n",
    "        \n",
    "        curr_frame = curr_frame[0:]\n",
    "        curr_frame = np.insert(curr_frame[0:], i+1, predicted[-1], axis=0)\n",
    "        \n",
    "        prediction_seqs.append(predicted[-1])\n",
    "        \n",
    "    return prediction_seqs\n"
   ]
  },
  {
   "cell_type": "code",
   "execution_count": 103,
   "metadata": {},
   "outputs": [
    {
     "name": "stdout",
     "output_type": "stream",
     "text": [
      "[[ 0.45533657]]\n",
      "[[ 0.19377115]]\n",
      "[[-0.30823046]]\n",
      "[[-1.12549818]]\n",
      "[[-2.03920817]]\n"
     ]
    }
   ],
   "source": [
    "predict_length=5\n",
    "predictions = predict_sequences_multiple(model, testX[0], predict_length)\n"
   ]
  },
  {
   "cell_type": "code",
   "execution_count": 104,
   "metadata": {},
   "outputs": [
    {
     "name": "stdout",
     "output_type": "stream",
     "text": [
      "[[ 1.24398017]\n",
      " [ 1.12427735]\n",
      " [ 0.89454138]\n",
      " [ 0.52052689]\n",
      " [ 0.10237661]]\n"
     ]
    },
    {
     "data": {
      "image/png": "[encoded data removed]",
      "text/plain": [
       "<matplotlib.figure.Figure at 0x12b230240>"
      ]
     },
     "metadata": {},
     "output_type": "display_data"
    }
   ],
   "source": [
    "print(scaler.inverse_transform(np.array(predictions).reshape(-1, 1)))\n",
    "plot_results_multiple(predictions, testY, predict_length)"
   ]
  },
  {
   "cell_type": "code",
   "execution_count": 105,
   "metadata": {},
   "outputs": [
    {
     "data": {
      "image/png": "[encoded data removed]",
      "text/plain": [
       "<matplotlib.figure.Figure at 0x13582ee10>"
      ]
     },
     "metadata": {},
     "output_type": "display_data"
    }
   ],
   "source": [
    "plt.plot(prices_dataset)\n",
    "plt.show()"
   ]
  },
  {
   "cell_type": "code",
   "execution_count": 106,
   "metadata": {},
   "outputs": [
    {
     "name": "stderr",
     "output_type": "stream",
     "text": [
      "/Users/taocheng/anaconda/lib/python3.6/site-packages/keras/models.py:844: UserWarning: The `nb_epoch` argument in `fit` has been renamed `epochs`.\n",
      "  warnings.warn('The `nb_epoch` argument in `fit` '\n"
     ]
    },
    {
     "name": "stdout",
     "output_type": "stream",
     "text": [
      "Epoch 1/32\n",
      "171736/171736 [==============================] - 39s - loss: 0.0087    \n",
      "Epoch 2/32\n",
      "171736/171736 [==============================] - 39s - loss: 1.0593e-05    \n",
      "Epoch 3/32\n",
      "171736/171736 [==============================] - 39s - loss: 2.7641e-06    \n",
      "Epoch 4/32\n",
      "171736/171736 [==============================] - 39s - loss: 2.6879e-06    \n",
      "Epoch 5/32\n",
      "171736/171736 [==============================] - 39s - loss: 2.6916e-06    \n",
      "Epoch 6/32\n",
      "171736/171736 [==============================] - 38s - loss: 2.6992e-06    \n",
      "Epoch 7/32\n",
      "171736/171736 [==============================] - 38s - loss: 2.6900e-06    \n",
      "Epoch 8/32\n",
      "171736/171736 [==============================] - ETA: 0s - loss: 2.6691e-0 - 40s - loss: 2.6693e-06    \n",
      "Epoch 9/32\n",
      "171736/171736 [==============================] - 40s - loss: 2.6655e-06    \n",
      "Epoch 10/32\n",
      "171736/171736 [==============================] - 42s - loss: 2.6359e-06    \n",
      "Epoch 11/32\n",
      "171736/171736 [==============================] - 41s - loss: 2.6310e-06    \n",
      "Epoch 12/32\n",
      "171736/171736 [==============================] - 40s - loss: 2.6247e-06    \n",
      "Epoch 13/32\n",
      "171736/171736 [==============================] - 40s - loss: 2.6342e-06    \n",
      "Epoch 14/32\n",
      "171736/171736 [==============================] - 40s - loss: 2.6365e-06    \n",
      "Epoch 15/32\n",
      "171736/171736 [==============================] - 39s - loss: 2.6621e-06    \n",
      "Epoch 16/32\n",
      "171736/171736 [==============================] - 38s - loss: 2.6184e-06    \n",
      "Epoch 17/32\n",
      "171736/171736 [==============================] - 38s - loss: 2.6266e-06    \n",
      "Epoch 18/32\n",
      "171736/171736 [==============================] - 38s - loss: 2.6164e-06    \n",
      "Epoch 19/32\n",
      "171736/171736 [==============================] - 38s - loss: 2.6122e-06    \n",
      "Epoch 20/32\n",
      "171736/171736 [==============================] - 38s - loss: 2.5881e-06    \n",
      "Epoch 21/32\n",
      "171736/171736 [==============================] - 40s - loss: 2.5981e-06    \n",
      "Epoch 22/32\n",
      "171736/171736 [==============================] - 41s - loss: 2.5915e-06    \n",
      "Epoch 23/32\n",
      "171736/171736 [==============================] - 43s - loss: 2.5738e-06    \n",
      "Epoch 24/32\n",
      "171736/171736 [==============================] - 40s - loss: 2.5957e-06    \n",
      "Epoch 25/32\n",
      "171736/171736 [==============================] - 41s - loss: 2.5985e-06    \n",
      "Epoch 26/32\n",
      "171736/171736 [==============================] - 40s - loss: 2.5537e-06    \n",
      "Epoch 27/32\n",
      "171736/171736 [==============================] - 40s - loss: 2.5879e-06    \n",
      "Epoch 28/32\n",
      "171736/171736 [==============================] - 40s - loss: 2.5958e-06    \n",
      "Epoch 29/32\n",
      "171736/171736 [==============================] - 40s - loss: 2.5496e-06    \n",
      "Epoch 30/32\n",
      "171736/171736 [==============================] - 39s - loss: 2.5730e-06    \n",
      "Epoch 31/32\n",
      "171736/171736 [==============================] - 38s - loss: 2.5752e-06    \n",
      "Epoch 32/32\n",
      "171736/171736 [==============================] - 38s - loss: 2.5623e-06    \n"
     ]
    },
    {
     "data": {
      "text/plain": [
       "<keras.callbacks.History at 0x12fc7a860>"
      ]
     },
     "execution_count": 106,
     "metadata": {},
     "output_type": "execute_result"
    }
   ],
   "source": [
    "# create and fit the LSTM network\n",
    "model = Sequential()\n",
    "model.add(LSTM(4, input_shape=(look_back, 1)))\n",
    "model.add(Dense(1))\n",
    "model.compile(loss='mse', optimizer='adam')\n",
    "model.fit(trainX, trainY, nb_epoch=32, batch_size=32)"
   ]
  },
  {
   "cell_type": "code",
   "execution_count": 107,
   "metadata": {
    "collapsed": true
   },
   "outputs": [],
   "source": [
    "# make predictions\n",
    "trainPredict = model.predict(trainX)\n",
    "testPredict = model.predict(testX)"
   ]
  },
  {
   "cell_type": "code",
   "execution_count": 108,
   "metadata": {
    "collapsed": true
   },
   "outputs": [],
   "source": [
    "# invert predictions and targets to unscaled\n",
    "trainPredict = scaler.inverse_transform(trainPredict)\n",
    "trainY = scaler.inverse_transform([trainY])\n",
    "testPredict = scaler.inverse_transform(testPredict)\n",
    "testY = scaler.inverse_transform([testY])"
   ]
  },
  {
   "cell_type": "code",
   "execution_count": 109,
   "metadata": {},
   "outputs": [
    {
     "name": "stdout",
     "output_type": "stream",
     "text": [
      "Train Score: 0.00 RMSE\n",
      "Test Score: 0.01 RMSE\n"
     ]
    }
   ],
   "source": [
    "import math\n",
    "from sklearn.metrics import mean_squared_error\n",
    "# calculate root mean squared error\n",
    "trainScore = math.sqrt(mean_squared_error(trainY[0], trainPredict[:,0]))\n",
    "print('Train Score: %.2f RMSE' % (trainScore))\n",
    "testScore = math.sqrt(mean_squared_error(testY[0], testPredict[:,0]))\n",
    "print('Test Score: %.2f RMSE' % (testScore))"
   ]
  },
  {
   "cell_type": "code",
   "execution_count": 110,
   "metadata": {
    "collapsed": true
   },
   "outputs": [],
   "source": [
    "# shift predictions of training data for plotting\n",
    "trainPredictPlot = np.empty_like(stock_prices)\n",
    "trainPredictPlot[:, :] = np.nan\n",
    "trainPredictPlot[look_back:len(trainPredict)+look_back, :] = trainPredict\n",
    "\n",
    "# shift predictions of test data for plotting\n",
    "testPredictPlot = np.empty_like(stock_prices)\n",
    "testPredictPlot[:, :] = np.nan\n",
    "testPredictPlot[len(trainPredict)+(look_back*2)+1:len(stock_prices)-1, :] = testPredict"
   ]
  },
  {
   "cell_type": "code",
   "execution_count": 111,
   "metadata": {},
   "outputs": [
    {
     "data": {
      "image/png": "[encoded data removed]",
      "text/plain": [
       "<matplotlib.figure.Figure at 0x12e7931d0>"
      ]
     },
     "metadata": {},
     "output_type": "display_data"
    }
   ],
   "source": [
    "# plot baseline and predictions\n",
    "plt.plot(scaler.inverse_transform(stock_prices))\n",
    "plt.plot(trainPredictPlot)\n",
    "plt.plot(testPredictPlot)\n",
    "plt.show()"
   ]
  },
  {
   "cell_type": "code",
   "execution_count": null,
   "metadata": {
    "collapsed": true
   },
   "outputs": [],
   "source": []
  }
 ],
 "metadata": {
  "kernelspec": {
   "display_name": "Python 3",
   "language": "python",
   "name": "python3"
  },
  "language_info": {
   "codemirror_mode": {
    "name": "ipython",
    "version": 3
   },
   "file_extension": ".py",
   "mimetype": "text/x-python",
   "name": "python",
   "nbconvert_exporter": "python",
   "pygments_lexer": "ipython3",
   "version": "3.6.1"
  }
 },
 "nbformat": 4,
 "nbformat_minor": 2
}
